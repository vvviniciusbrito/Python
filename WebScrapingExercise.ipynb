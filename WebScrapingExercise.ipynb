{
 "cells": [
  {
   "cell_type": "markdown",
   "id": "6aa7e23c",
   "metadata": {},
   "source": [
    "<h3> Resume </h3>"
   ]
  },
  {
   "cell_type": "code",
   "execution_count": 1,
   "id": "8f1a84cb",
   "metadata": {},
   "outputs": [],
   "source": [
    "# This is a Web Scraping in Python script.\n",
    "# Python version: 3.10\n",
    "# Created on 2022-02-01\n",
    "# Author: Vinicius Brito\n",
    "\n",
    "# Objective: This code was created to extract data from South America World Cup Qualifiers classification table on an website from\n",
    "# Brazil named GloboEsporte.com\n",
    "\n",
    "# Versions Control:\n",
    "#   Date        Describe\n",
    "#   2022-02-15  Release"
   ]
  },
  {
   "cell_type": "markdown",
   "id": "2c244395",
   "metadata": {},
   "source": [
    "<h3>Libraries</h3>"
   ]
  },
  {
   "cell_type": "code",
   "execution_count": 2,
   "id": "7e3a080f",
   "metadata": {},
   "outputs": [],
   "source": [
    "# import required libraries\n",
    "\n",
    "# pip install requests\n",
    "# pip install numpy\n",
    "# pip install pandas\n",
    "\n",
    "import requests as req\n",
    "import numpy as np\n",
    "import pandas as pd\n",
    "from datetime import date\n",
    "from lxml import html"
   ]
  },
  {
   "cell_type": "markdown",
   "id": "78d30c7f",
   "metadata": {},
   "source": [
    "<h3>Request data</h3>"
   ]
  },
  {
   "cell_type": "code",
   "execution_count": 3,
   "id": "ad9f62e3",
   "metadata": {},
   "outputs": [],
   "source": [
    "# to request data from website\n",
    "html = req.get(\"https://ge.globo.com/futebol/copa-do-mundo/eliminatorias-america-do-sul/\")\n",
    "\n",
    "# check downloaded content\n",
    "# html.content\n",
    "\n",
    "# convert content to text\n",
    "html = html.text\n"
   ]
  },
  {
   "cell_type": "code",
   "execution_count": 4,
   "id": "932639f5",
   "metadata": {},
   "outputs": [],
   "source": [
    "# define content limits of classification table\n",
    "\n",
    "ini_datatable = html.find(\"{\\\"classificacao\\\":[{\") # inferior limit parameter of classification table in html\n",
    "end_datatable = html.find(\"}],\") # upper limit parameter of classification table in html\n",
    "full_datatable = html [ini_datatable+18:end_datatable+1] # only data of classification table in html\n",
    "#print(full_datatable)\n",
    "\n",
    "# extract data from one of each national team in table and store in a list\n",
    "\n",
    "data = []\n",
    "i = 0\n",
    "while i < 10: # limit is 10 because have only 10 teams in South America\n",
    "    ini_param = full_datatable.find(\"\\\"nome_popular\\\":\") # inferior limit parameter\n",
    "    end_param = full_datatable.find(\",\\\"saldo_gols\\\":\") # upper limit parameter\n",
    "    full_param = full_datatable [ini_param:end_param] # datas from a national team\n",
    "    x = full_param.replace('\\\"','').replace('nome_popular:','').replace('ordem:','').replace('pontos:','').replace(\"\\\\u00f4\",\"ô\").replace('\\\\u00ed','í')\n",
    "    #print(x.split(\",\")) \n",
    "    data.append(x.split(\",\"))\n",
    "    full_datatable = full_datatable [end_param+13:] # in each loop the limits of 'full_datatable' change\n",
    "    i = i + 1"
   ]
  },
  {
   "cell_type": "markdown",
   "id": "2e93048f",
   "metadata": {},
   "source": [
    "<h3>Transform list in Data frame </h3>"
   ]
  },
  {
   "cell_type": "code",
   "execution_count": 5,
   "id": "2918a513",
   "metadata": {},
   "outputs": [
    {
     "data": {
      "text/html": [
       "<div>\n",
       "<style scoped>\n",
       "    .dataframe tbody tr th:only-of-type {\n",
       "        vertical-align: middle;\n",
       "    }\n",
       "\n",
       "    .dataframe tbody tr th {\n",
       "        vertical-align: top;\n",
       "    }\n",
       "\n",
       "    .dataframe thead th {\n",
       "        text-align: right;\n",
       "    }\n",
       "</style>\n",
       "<table border=\"1\" class=\"dataframe\">\n",
       "  <thead>\n",
       "    <tr style=\"text-align: right;\">\n",
       "      <th></th>\n",
       "      <th>National Team</th>\n",
       "      <th>Position</th>\n",
       "      <th>Points</th>\n",
       "    </tr>\n",
       "  </thead>\n",
       "  <tbody>\n",
       "    <tr>\n",
       "      <th>0</th>\n",
       "      <td>Brasil</td>\n",
       "      <td>1</td>\n",
       "      <td>39</td>\n",
       "    </tr>\n",
       "    <tr>\n",
       "      <th>1</th>\n",
       "      <td>Argentina</td>\n",
       "      <td>2</td>\n",
       "      <td>35</td>\n",
       "    </tr>\n",
       "    <tr>\n",
       "      <th>2</th>\n",
       "      <td>Equador</td>\n",
       "      <td>3</td>\n",
       "      <td>25</td>\n",
       "    </tr>\n",
       "    <tr>\n",
       "      <th>3</th>\n",
       "      <td>Uruguai</td>\n",
       "      <td>4</td>\n",
       "      <td>22</td>\n",
       "    </tr>\n",
       "    <tr>\n",
       "      <th>4</th>\n",
       "      <td>Peru</td>\n",
       "      <td>5</td>\n",
       "      <td>21</td>\n",
       "    </tr>\n",
       "    <tr>\n",
       "      <th>5</th>\n",
       "      <td>Chile</td>\n",
       "      <td>6</td>\n",
       "      <td>19</td>\n",
       "    </tr>\n",
       "    <tr>\n",
       "      <th>6</th>\n",
       "      <td>Colômbia</td>\n",
       "      <td>7</td>\n",
       "      <td>17</td>\n",
       "    </tr>\n",
       "    <tr>\n",
       "      <th>7</th>\n",
       "      <td>Bolívia</td>\n",
       "      <td>8</td>\n",
       "      <td>15</td>\n",
       "    </tr>\n",
       "    <tr>\n",
       "      <th>8</th>\n",
       "      <td>Paraguai</td>\n",
       "      <td>9</td>\n",
       "      <td>13</td>\n",
       "    </tr>\n",
       "    <tr>\n",
       "      <th>9</th>\n",
       "      <td>Venezuela</td>\n",
       "      <td>10</td>\n",
       "      <td>10</td>\n",
       "    </tr>\n",
       "  </tbody>\n",
       "</table>\n",
       "</div>"
      ],
      "text/plain": [
       "  National Team  Position  Points\n",
       "0        Brasil         1      39\n",
       "1     Argentina         2      35\n",
       "2       Equador         3      25\n",
       "3       Uruguai         4      22\n",
       "4          Peru         5      21\n",
       "5         Chile         6      19\n",
       "6      Colômbia         7      17\n",
       "7       Bolívia         8      15\n",
       "8      Paraguai         9      13\n",
       "9     Venezuela        10      10"
      ]
     },
     "execution_count": 5,
     "metadata": {},
     "output_type": "execute_result"
    }
   ],
   "source": [
    "# convert list into DataFrame\n",
    "df = pd.DataFrame(data)\n",
    "\n",
    "#df =pd.to_numeric(0)\n",
    "#df =pd.to_numeric(1)\n",
    "\n",
    "# rename columns of DataFrame\n",
    "df = df.rename(columns={0: \"National Team\", 1: \"Position\", 2: \"Points\"})\n",
    "\n",
    "# convert the numeric columns to int\n",
    "df.Position=pd.to_numeric(df.Position)\n",
    "df.Points=pd.to_numeric(df.Points)\n",
    "\n",
    "# check the DataFrame\n",
    "df.head(10)"
   ]
  },
  {
   "cell_type": "markdown",
   "id": "09c08417",
   "metadata": {},
   "source": [
    "<h3>Generate Chart</h3>"
   ]
  },
  {
   "cell_type": "code",
   "execution_count": 6,
   "id": "b9d15b7d",
   "metadata": {},
   "outputs": [
    {
     "data": {
      "image/png": "[encoded data removed]",
      "text/plain": [
       "<Figure size 432x288 with 1 Axes>"
      ]
     },
     "metadata": {
      "needs_background": "light"
     },
     "output_type": "display_data"
    }
   ],
   "source": [
    "# Define the plot itens\n",
    "df_plot = df.head(10)\n",
    "\n",
    "# Customize the colors of graph. obs.: In South America the top-4 go to WC, the fifth dispute a repescage and the others don't can dispute nothing. \n",
    "my_colors = [(0.2,0.5,0.8),(0.2,0.5,0.8),(0.2,0.5,0.8),(0.2,0.5,0.8),(0.5, 0.75, 0.25),(0.9, 0.75, 0.25),(0.9, 0.75, 0.25),(0.9, 0.75, 0.25),(0.9, 0.75, 0.25),(0.9, 0.75, 0.25)] # <-- make two custom RGBs and repeat/alternate them over all the bar elements.\n",
    "\n",
    "# Collect date for Graph title\n",
    "today = date.today() # English format: YYYY-mm-dd\n",
    "today = today.strftime(\"%Y-%m-%d\") # English format: YYYY-mm-dd\n",
    "#today = today.strftime(\"%d/%m/%Y\") # Brazil format: dd/mm/YY\n",
    "\n",
    "# Plot the graph\n",
    "df_plot = df_plot.plot(kind='bar',x='National Team',y='Points',title='FIFA WC 2022 Qualifiers Table - South America in '+ today ,  fontsize='12', color=my_colors, legend=False)\n",
    "\n",
    "# Insert labels in axis\n",
    "df_plot.set_xlabel('National teams'+ '\\n' + '\\n' + 'In blue = Classifieds | In green = Repescage | In yellow = Out' )\n",
    "df_plot.set_ylabel('Points')\n",
    "\n",
    "# Insert annotates in columns\n",
    "for p in df_plot.patches:\n",
    "    df_plot.annotate(str(p.get_height()), (p.get_x() * 1.005, p.get_height() * 1.009))"
   ]
  },
  {
   "cell_type": "code",
   "execution_count": null,
   "id": "0394938d",
   "metadata": {},
   "outputs": [],
   "source": []
  }
 ],
 "metadata": {
  "kernelspec": {
   "display_name": "Python 3 (ipykernel)",
   "language": "python",
   "name": "python3"
  },
  "language_info": {
   "codemirror_mode": {
    "name": "ipython",
    "version": 3
   },
   "file_extension": ".py",
   "mimetype": "text/x-python",
   "name": "python",
   "nbconvert_exporter": "python",
   "pygments_lexer": "ipython3",
   "version": "3.9.7"
  }
 },
 "nbformat": 4,
 "nbformat_minor": 5
}
